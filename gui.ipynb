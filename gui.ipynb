{
 "cells": [
  {
   "cell_type": "code",
   "execution_count": 8,
   "id": "a173e15f-8cb2-47da-99ec-aca6406627b3",
   "metadata": {},
   "outputs": [
    {
     "name": "stderr",
     "output_type": "stream",
     "text": [
      "C:\\Users\\Aarya\\anaconda3\\Lib\\site-packages\\sklearn\\base.py:493: UserWarning: X does not have valid feature names, but StandardScaler was fitted with feature names\n",
      "  warnings.warn(\n"
     ]
    }
   ],
   "source": [
    "import tkinter as tk\n",
    "from tkinter import ttk\n",
    "import numpy as np\n",
    "from sklearn.preprocessing import StandardScaler\n",
    "import joblib\n",
    "\n",
    "# Load the saved model\n",
    "rf = joblib.load('heart_disease_model.joblib')\n",
    "\n",
    "# Load the scaler used during training\n",
    "scaler = joblib.load('scaler.joblib')\n",
    "\n",
    "root = tk.Tk()\n",
    "root.title(\"Heart Disease Prediction\")\n",
    "\n",
    "# Use the top 5 features\n",
    "input_fields = ['Age', 'UnhealthyHabits', 'BMI', 'Income', 'PhysHlth']\n",
    "entries = {}\n",
    "\n",
    "for i, field in enumerate(input_fields):\n",
    "    ttk.Label(root, text=field).grid(row=i, column=0, padx=5, pady=5)\n",
    "    entries[field] = ttk.Entry(root)\n",
    "    entries[field].grid(row=i, column=1, padx=5, pady=5)\n",
    "\n",
    "predict_button = ttk.Button(root, text=\"Predict\")\n",
    "predict_button.grid(row=len(input_fields), column=0, columnspan=2, pady=10)\n",
    "\n",
    "result_label = ttk.Label(root, text=\"\")\n",
    "result_label.grid(row=len(input_fields)+1, column=0, columnspan=2)\n",
    "\n",
    "def predict():\n",
    "    # Get input values\n",
    "    input_data = [float(entries[field].get()) for field in input_fields]\n",
    "    \n",
    "    # Scale the input data\n",
    "    input_scaled = scaler.transform(np.array(input_data).reshape(1, -1))\n",
    "    \n",
    "    # Make prediction\n",
    "    prediction = rf.predict(input_scaled)\n",
    "    probability = rf.predict_proba(input_scaled)[0][1]\n",
    "    \n",
    "    # Display result\n",
    "    result = \"High risk\" if prediction[0] == 1 else \"Low risk\"\n",
    "    result_label.config(text=f\"Prediction: {result}\\nProbability: {probability:.2f}\")\n",
    "\n",
    "predict_button.config(command=predict)\n",
    "\n",
    "root.mainloop()"
   ]
  },
  {
   "cell_type": "code",
   "execution_count": null,
   "id": "16f7a751-3580-4d0e-8d0d-20ff1aa7038d",
   "metadata": {},
   "outputs": [],
   "source": []
  }
 ],
 "metadata": {
  "kernelspec": {
   "display_name": "Python 3 (ipykernel)",
   "language": "python",
   "name": "python3"
  },
  "language_info": {
   "codemirror_mode": {
    "name": "ipython",
    "version": 3
   },
   "file_extension": ".py",
   "mimetype": "text/x-python",
   "name": "python",
   "nbconvert_exporter": "python",
   "pygments_lexer": "ipython3",
   "version": "3.12.4"
  }
 },
 "nbformat": 4,
 "nbformat_minor": 5
}
